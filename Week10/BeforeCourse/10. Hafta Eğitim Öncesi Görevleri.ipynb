{
 "cells": [
  {
   "attachments": {},
   "cell_type": "markdown",
   "metadata": {},
   "source": [
    "# Problem 1"
   ]
  },
  {
   "cell_type": "code",
   "execution_count": 2,
   "metadata": {},
   "outputs": [
    {
     "name": "stdout",
     "output_type": "stream",
     "text": [
      "[10  6  3  1  8]\n",
      "(5,)\n",
      "[[10]\n",
      " [ 6]\n",
      " [ 3]\n",
      " [ 1]\n",
      " [ 8]]\n",
      "2\n"
     ]
    }
   ],
   "source": [
    "# 1 - numpy kütüphanesini import edin\n",
    "import numpy as np\n",
    "\n",
    "# 2 - 0 ile 10 arasında 5 sayıdan oluşan matris üretin\n",
    "matrix=np.random.randint(1,11,size=5)\n",
    "print(matrix)\n",
    "\n",
    "# 3 - matris'in boyutunu öğrenin\n",
    "dimension=matrix.shape\n",
    "print(dimension)\n",
    "\n",
    "# 4 - matris'i yeniden boyutlandırın\n",
    "x=matrix.reshape(5,1)\n",
    "print(x)\n",
    "\n",
    "# 5 - matris'in boyut sayısını öğrenin\n",
    "print(x.ndim)\n"
   ]
  },
  {
   "attachments": {},
   "cell_type": "markdown",
   "metadata": {},
   "source": [
    "# Problem 2"
   ]
  },
  {
   "cell_type": "code",
   "execution_count": 25,
   "metadata": {},
   "outputs": [
    {
     "name": "stdout",
     "output_type": "stream",
     "text": [
      "[1 3 5 7 9]\n",
      "[[1]\n",
      " [3]\n",
      " [5]\n",
      " [7]\n",
      " [9]]\n",
      "[[1]\n",
      " [3]\n",
      " [5]]\n",
      "[[1]\n",
      " [3]\n",
      " [5]\n",
      " [7]\n",
      " [9]]\n"
     ]
    }
   ],
   "source": [
    "# 1 - 0 ile 10 arasında bulunan tek sayılardan oluşan matris üretin\n",
    "odd_numbers=np.arange(1,10,2)\n",
    "print(odd_numbers)\n",
    "matris=odd_numbers.reshape(5,1)\n",
    "print(matris)\n",
    "\n",
    "# 2 - Oluşturduğunuz matrisi parçalayın\n",
    "submatrix=matris[:3,:]\n",
    "print(submatrix)\n",
    "# 3 - Parçalanmış matrisleri birleştirin\n",
    "united_matrix=np.vstack((submatrix,matris[3:,:]))\n",
    "print(united_matrix)"
   ]
  },
  {
   "attachments": {},
   "cell_type": "markdown",
   "metadata": {},
   "source": [
    "# Problem 3"
   ]
  },
  {
   "cell_type": "code",
   "execution_count": 28,
   "metadata": {},
   "outputs": [
    {
     "name": "stdout",
     "output_type": "stream",
     "text": [
      "[67 73 23 39 37 15 49 29 19 27]\n",
      "[[67 73 23 39 37]\n",
      " [15 49 29 19 27]]\n",
      "(2, 5)\n",
      "2\n",
      "10\n"
     ]
    }
   ],
   "source": [
    "# 1 - 5 ile 100 arasında ikişer ikişer atlayarak rastgele 10 sayıdan oluşan matris üretin\n",
    "random_numbers=np.random.choice((np.arange(5,100,2)), size=10)\n",
    "print(random_numbers)\n",
    "m=random_numbers.reshape(2,5)\n",
    "print(m)\n",
    "# 2 - matris'in özelliklerini inceleyin\n",
    "print(m.shape)\n",
    "print(m.ndim)\n",
    "print(m.size)\n"
   ]
  }
 ],
 "metadata": {
  "kernelspec": {
   "display_name": "Python 3",
   "language": "python",
   "name": "python3"
  },
  "language_info": {
   "codemirror_mode": {
    "name": "ipython",
    "version": 3
   },
   "file_extension": ".py",
   "mimetype": "text/x-python",
   "name": "python",
   "nbconvert_exporter": "python",
   "pygments_lexer": "ipython3",
   "version": "3.10.9"
  },
  "orig_nbformat": 4,
  "vscode": {
   "interpreter": {
    "hash": "5026d2d6e7aaaaba093def813beadff083d8733e4a511af01735cbabd156995d"
   }
  }
 },
 "nbformat": 4,
 "nbformat_minor": 2
}

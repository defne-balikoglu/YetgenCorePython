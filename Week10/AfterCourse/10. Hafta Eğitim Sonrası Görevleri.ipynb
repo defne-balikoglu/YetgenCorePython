{
 "cells": [
  {
   "attachments": {},
   "cell_type": "markdown",
   "metadata": {},
   "source": [
    "# Problem 1 "
   ]
  },
  {
   "cell_type": "code",
   "execution_count": 2,
   "metadata": {},
   "outputs": [
    {
     "name": "stdout",
     "output_type": "stream",
     "text": [
      "[123  34 987  30  15]\n",
      "[ 15  30  34 123 987]\n"
     ]
    }
   ],
   "source": [
    "# 1 - numpy kütüphanesini import edin\n",
    "import numpy as np\n",
    "\n",
    "# 2 - 5 elemanlı bir numpy array oluşturun\n",
    "array1=np.array([123,34,987,30,15])\n",
    "print(array1)\n",
    "\n",
    "# 3 - Oluşturduğunuz arrayi küçükten büyüğe sıralayın.\n",
    "a=np.sort(array1)\n",
    "print(a)\n"
   ]
  },
  {
   "attachments": {},
   "cell_type": "markdown",
   "metadata": {},
   "source": [
    "# Problem 2"
   ]
  },
  {
   "cell_type": "code",
   "execution_count": 18,
   "metadata": {},
   "outputs": [
    {
     "name": "stdout",
     "output_type": "stream",
     "text": [
      "[10 15 30 45 60]\n",
      "[ 6  7  8  9 10 11 12 13 14]\n",
      "[50 55 60 65 70 75 80 85 90 95]\n",
      "[0. 0. 0. 0. 0. 0. 0. 0. 0. 0.]\n",
      "[1. 1. 1. 1. 1. 1. 1. 1. 1. 1.]\n",
      "[ 1 21 41 61 81]\n",
      "[30 17 14 10 17]\n",
      "[ 0.45576856  0.61597306  0.71750477  0.02569006  0.03489371  0.7665632\n",
      "  0.62304214 -0.94909366  0.17559186 -0.99145075]\n",
      "[[23 28 28 29 35]\n",
      " [42 46 42 33 16]\n",
      " [17 33 28 34 13]]\n",
      "satır toplamı:[143 179 125]\n",
      "sütun toplamı:[ 82 107  98  96  64]\n",
      "max: 46\n",
      "min: 13\n",
      "mean: 29.8\n",
      "(1, 1)\n",
      "[[10 11 12 13 14]\n",
      " [15 16 17 18 19]]\n",
      "[[15 16 17 18 19]\n",
      " [10 11 12 13 14]]\n",
      "[10 11 12 13 14]\n",
      "17\n",
      "[10 15]\n",
      "[[100 121 144 169 196]\n",
      " [225 256 289 324 361]]\n",
      "[ 2  4  6  8 10 12 14 16 18 20 22 24 26 28 30 32 34 36 38 40 42 44 46 48]\n"
     ]
    }
   ],
   "source": [
    "# 1- (10,15,30,45,60) değerlerine sahip numpy dizisi oluşturunuz.\n",
    "array2=np.array([10,15,30,45,60])\n",
    "print(array2)\n",
    "\n",
    "# 2- (5-15) arasındaki sayılarla numpy dizisi oluşturunuz.\n",
    "array3=np.arange(6,15)\n",
    "print(array3)\n",
    " \n",
    "# 3- (50-100) arasında 5'er 5'er artarak numpy dizisi oluşturunuz.\n",
    "array4=np.arange(50,100,5)\n",
    "print(array4)\n",
    "\n",
    "\n",
    "# 4- 10 elemanlı sıfırlardan oluşan bir dizi oluşturunuz.\n",
    "array_zero=np.zeros(10)\n",
    "print(array_zero)\n",
    "\n",
    "\n",
    "# 5- 10 elemanlı birlerden oluşan bir dizi oluşturunuz.\n",
    "array_ones=np.ones(10)\n",
    "print(array_ones)\n",
    "\n",
    "\n",
    "# 6- (0-100) arasında eşit aralıklı 5 sayı üretin.\n",
    "array5=np.arange(1,100,20)\n",
    "print(array5)\n",
    "\n",
    "\n",
    "# 7- (10-30) arasında rastgele 5 tane tamsayı üretin.\n",
    "d=np.random.randint(10,31,5)\n",
    "print(d)\n",
    "\n",
    "# 8- [-1 ile 1] arasında 10 adet sayı üretin..........................................................\n",
    "r=np.random.uniform(-1,1,10)\n",
    "print(r)\n",
    "\n",
    "# 9- (3x5) boyutlarında (10-50) arasında rastgele bir matris oluşturunuz.\n",
    "n=np.random.randint(10,51,size=(3,5))\n",
    "print(n)\n",
    "\n",
    "# 10- Üretilen matrisin satır ve sütun sayıları toplamlarını hesaplayınız ?\n",
    "row_sums=n.sum(axis=1)\n",
    "column_sums=n.sum(axis=0)\n",
    "print(f\"satır toplamı:{row_sums}\")\n",
    "print(f\"sütun toplamı:{column_sums}\")\n",
    "\n",
    "# 11- Üretilen matrisin en büyük, en küçük ve ortalaması nedir ?\n",
    "maxValue=n.max()\n",
    "minValue=n.min()\n",
    "meanValue=n.mean()\n",
    "print(\"max:\",maxValue)\n",
    "print(\"min:\",minValue)\n",
    "print(\"mean:\",meanValue)\n",
    "\n",
    "# 12- Üretilen matrisin en büyük değerinin indeksi kaçtır ?\n",
    "max_index=np.unravel_index(n.argmax(),n.shape)\n",
    "print(max_index)\n",
    "\n",
    "# 13- (10-20) arasındaki sayıları içeren dizinin ilk 3 elemanını seçiniz.\n",
    "dizi=np.arange(10,20).reshape(2,5)\n",
    "ilk_üç=dizi[:3]\n",
    "print(ilk_üç)\n",
    "\n",
    "# 14- Üretilen dizinin elemanlarını tersten yazdırın.\n",
    "reversed=dizi[::-1]\n",
    "print(reversed)\n",
    "\n",
    "# 15- Üretilen matrisin ilk satırını seçiniz.\n",
    "first_row=dizi[0,:]\n",
    "print(first_row)\n",
    "# 16- Üretilen matrisin 2.satır 3.sütundaki elemanı hangisidir ?\n",
    "eleman=dizi[1,2]\n",
    "print(eleman)\n",
    "# 17- Üretilen matrisin tüm satırlardaki ilk elemanı seçiniz.\n",
    "first_all_rows=dizi[:,0]\n",
    "print(first_all_rows)\n",
    "# 18- Üretilen matrisin her bir elemanının karesini alınız.\n",
    "kareleri=dizi**2\n",
    "print(kareleri)\n",
    "\n",
    "# 19- Üretilen matris elemanlarının hangisi pozitif çift sayıdır ? Aralığı (-50,+50) arasında yapınız.\n",
    "new_matrixx=np.arange(-50,50).reshape(10,10)\n",
    "filtered_matrixx=new_matrixx[(new_matrixx%2==0) & (new_matrixx>0)]\n",
    "print(filtered_matrixx)\n"
   ]
  }
 ],
 "metadata": {
  "kernelspec": {
   "display_name": "Python 3",
   "language": "python",
   "name": "python3"
  },
  "language_info": {
   "codemirror_mode": {
    "name": "ipython",
    "version": 3
   },
   "file_extension": ".py",
   "mimetype": "text/x-python",
   "name": "python",
   "nbconvert_exporter": "python",
   "pygments_lexer": "ipython3",
   "version": "3.10.9"
  },
  "orig_nbformat": 4,
  "vscode": {
   "interpreter": {
    "hash": "5026d2d6e7aaaaba093def813beadff083d8733e4a511af01735cbabd156995d"
   }
  }
 },
 "nbformat": 4,
 "nbformat_minor": 2
}

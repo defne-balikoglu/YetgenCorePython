{
 "cells": [
  {
   "attachments": {},
   "cell_type": "markdown",
   "metadata": {},
   "source": [
    "# Problem 1\n",
    "\n",
    "Kumanda isminde bir sınıf oluşturarak aşağıdaki işlemleri yapmasını sağlayan fonksiyonları sınıf içerisinde yazalım.\n",
    "1. Tv Aç\n",
    "2. Tv Kapat\n",
    "3. Ses Ayarları\n",
    "4. Kanal Ekle\n",
    "5. Kanal Sayısını Öğrenme\n",
    "6. Rastgele Kanala Geçme\n",
    "7. Televizyon Bilgileri\n",
    "\n",
    "\n",
    "Kumandayı kapatmak için q tuşuna basılmalı ve diğer durumlarda hangi işlemi yapmak istediği sorulmalıdır. Her işlemde gerekli fonksiyonunun sınıf içerisinden çağırılması gerekmektedir.\n",
    "\n",
    "random ve time kütüphanesini araştırarak kullanabilirsiniz.\n",
    "\n",
    "Kendi istediğiniz özellikleri eklemekte serbetsiniz."
   ]
  },
  {
   "cell_type": "code",
   "execution_count": 27,
   "metadata": {},
   "outputs": [
    {
     "name": "stdout",
     "output_type": "stream",
     "text": [
      "ses: 0\n",
      " kanal listesi:['TRT']\n",
      " şuanki kanal:TRT\n",
      "\n"
     ]
    }
   ],
   "source": [
    "# 1.Problemin Çözümünü Buraya Yazınız\n",
    "import random \n",
    "import time\n",
    "class Kumanda():\n",
    "    def __init__(self, kanalListesi=[\"TRT\"],kanal=\"TRT\"):\n",
    "        self.kanalListesi=kanalListesi\n",
    "        self.kanal=kanal\n",
    "        self.ses=0\n",
    "    def tv_aç(self):\n",
    "        print(\"Tv açılıyor...\")\n",
    "    def tv_kapa(self):\n",
    "        print(\"Tv kapanıyor...\")\n",
    "    def ses_ayarları(self):\n",
    "        self.ses=input(\"Şuan ses düzeyi 0, ulaşmasını istediğiniz ses düzeyini giriniz.\")\n",
    "        print(f\"ses düzeyi {self.ses} olarak ayarlandı.\")\n",
    "    def kanal_ekle(self):\n",
    "        k=input(\"eklemek istediğiniz kanalı yazın.\")\n",
    "        time.sleep(1)\n",
    "        self.kanalListesi.append(k)\n",
    "        print(\"kanal eklendi\")\n",
    "    def kanal_sayısı(self):\n",
    "        print( len(self.kanalListesi))\n",
    "    def rastgele_kanal(self):\n",
    "        rastgele=random.randint(0, len(self.kanalListesi)-1)\n",
    "        self.kanal=self.kanalListesi[rastgele]\n",
    "        print(\"kanal:\", self.kanal)\n",
    "    def __str__(self):\n",
    "        return(f\"ses: {self.ses}\\n kanal listesi:{self.kanalListesi}\\n şuanki kanal:{self.kanal}\\n\")\n",
    "    def take_input(self):\n",
    "        while True:\n",
    "            yönerge={1: \"Tv Aç\",\n",
    "                    2:\"Tv Kapat\",\n",
    "                    3:\"Ses Ayarları\",\n",
    "                    4: \"Kanal Ekle\",\n",
    "                    5: \"Kanal Sayısını Öğrenme\",\n",
    "                    6: \"Rastgele Kanala Geçme\",\n",
    "                    7: \"Televizyon Bilgileri\",\n",
    "                    \"q\":\"çıkış\"\n",
    "                    }\n",
    "            whatToDo=input(f\"yapmak istediğiniz komutun numarasını seçiniz.{yönerge}\")\n",
    "            if whatToDo==\"1\":\n",
    "                self.tv_aç()\n",
    "            elif whatToDo==\"2\":\n",
    "                self.tv_kapa()\n",
    "            elif whatToDo==\"3\":\n",
    "                self.ses_ayarları()\n",
    "            elif whatToDo==\"4\":\n",
    "                self.kanal_ekle()\n",
    "            elif whatToDo==\"5\":\n",
    "                self.kanal_sayısı()\n",
    "            elif whatToDo==\"6\":\n",
    "                self.rastgele_kanal()\n",
    "            elif whatToDo==\"7\":\n",
    "                print(self)\n",
    "            elif whatToDo==\"q\":\n",
    "                break\n",
    "kumanda = Kumanda()\n",
    "kumanda.take_input()\n"
   ]
  }
 ],
 "metadata": {
  "kernelspec": {
   "display_name": "Python 3",
   "language": "python",
   "name": "python3"
  },
  "language_info": {
   "codemirror_mode": {
    "name": "ipython",
    "version": 3
   },
   "file_extension": ".py",
   "mimetype": "text/x-python",
   "name": "python",
   "nbconvert_exporter": "python",
   "pygments_lexer": "ipython3",
   "version": "3.10.9"
  },
  "orig_nbformat": 4,
  "vscode": {
   "interpreter": {
    "hash": "5026d2d6e7aaaaba093def813beadff083d8733e4a511af01735cbabd156995d"
   }
  }
 },
 "nbformat": 4,
 "nbformat_minor": 2
}

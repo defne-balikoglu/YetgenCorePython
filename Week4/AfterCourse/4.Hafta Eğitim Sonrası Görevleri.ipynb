{
 "cells": [
  {
   "cell_type": "markdown",
   "metadata": {},
   "source": [
    "# Problem 1\n",
    "`ogrenciler` adında bir sözlük oluşturunuz. Kullanıcıdan döngü yardımıyla 3 öğrenci için veri girmesini isteyerek öğrencilerin sırasıyla okul numarası, isim, soy isim, telefon numarası ve doğum tarihi bilgilerini alınız. Aldığınız öğrenci bilgilerini yine aynı döngü yardımıyla `ogrenciler` adındaki sözlükte saklayınız. Daha sonra öğrenci bilgilerinin bulunduğu sözlük yapısını ekrana bastırınız.\n",
    "\n"
   ]
  },
  {
   "cell_type": "code",
   "execution_count": 8,
   "metadata": {},
   "outputs": [
    {
     "name": "stdout",
     "output_type": "stream",
     "text": [
      "('1', {'isim': '2', 'soyisim': '3', 'tel no': '4', 'doğum tarihi': '5'})\n",
      "('6', {'isim': '7', 'soyisim': '8', 'tel no': '9', 'doğum tarihi': '1'})\n",
      "('2', {'isim': '3', 'soyisim': '4', 'tel no': '5', 'doğum tarihi': '6'})\n"
     ]
    }
   ],
   "source": [
    "# 1.Problemin Çözümünü Buraya Yazınız\n",
    "ögrenciler={}\n",
    "for i in range(3):\n",
    "    okulNo=input(f\"{i+1}. öğrencinin numarasını giriniz.\")\n",
    "    isim=input(f\"{i+1}. öğrencinin ismini giriniz.\")\n",
    "    soyisim=input(f\"{i+1}. öğrencinin soyismini giriniz.\")\n",
    "    telNo=input(f\"{i+1}. öğrencinin telefon numarasını giriniz.\")\n",
    "    doğumTarihi=input(f\"{i+1}. öğrencinin doğum tarihini giriniz.\")\n",
    "    öğrenciBilgileri={\n",
    "        \"isim\" : isim,\n",
    "        \"soyisim\" : soyisim,\n",
    "        \"tel no\" : telNo,\n",
    "        \"doğum tarihi\" : doğumTarihi,\n",
    "        }\n",
    "    ögrenciler[okulNo]= öğrenciBilgileri\n",
    "for öğrenciler in ögrenciler.items():\n",
    "    print(öğrenciler)\n",
    "\n",
    "    "
   ]
  },
  {
   "cell_type": "markdown",
   "metadata": {},
   "source": [
    "# Problem 2\n",
    "\n",
    "### a - Biraz ısınarak başlayalım!\n",
    "\n",
    "```\n",
    "numbers = [5,10,10,15,15,15,20,20,20,20]\n",
    "```\n",
    "\n",
    "Yukarıda `numbers` adında 10 elemanlı bir liste verilmiştir. Bu listenin her elemanını kontrol eden ve tekrar eden elemanları bir kez olacak şekilde başka bir listeye kopyalayan bir program yazınız. Son olarak oluşturduğunuz listeyi ekrana bastırınız.\n",
    "\n",
    "\n",
    "\n",
    "\n",
    "```\n",
    ">Output\n",
    "[5, 10, 15, 20]\n",
    "```\n"
   ]
  },
  {
   "cell_type": "code",
   "execution_count": 2,
   "metadata": {},
   "outputs": [
    {
     "name": "stdout",
     "output_type": "stream",
     "text": [
      "[5, 10, 15, 20]\n"
     ]
    }
   ],
   "source": [
    "# 2.Problemin a Şıkkının Çözümünü Buraya Yazınız\n",
    "numbers = [5,10,10,15,15,15,20,20,20,20]\n",
    "uniqs=[]\n",
    "for number in numbers:\n",
    "    if number not in uniqs:\n",
    "        uniqs.append(number)\n",
    "print(uniqs)\n",
    "\n",
    "\n"
   ]
  },
  {
   "cell_type": "markdown",
   "metadata": {},
   "source": [
    "### 🌶️ b) Hadi işi biraz daha zorlaştıralım! \n",
    "\n",
    "\n",
    "Şimdiyse senden `numbers` isimli listedeki tekrar eden elemanları `repeatNumbers` adındaki listeye; tekrar etmeyen elemanları `uniqueNumbers`adındaki listeye kopyalayan yazmanı ve listeleri ekrana bastırmanı bekliyoruz\n",
    "\n",
    "```\n",
    ">Output\n",
    "Tekrar Eden Elemanlar: [10, 10, 15, 15, 15, 20, 20, 20, 20]\n",
    "Tekrar Etmeyen Elemanlar: [5]\n",
    "```"
   ]
  },
  {
   "cell_type": "code",
   "execution_count": 6,
   "metadata": {},
   "outputs": [
    {
     "name": "stdout",
     "output_type": "stream",
     "text": [
      "unique numbers: [5]\n",
      "repeating numbers: [10, 10, 15, 15, 15, 20, 20, 20, 20]\n"
     ]
    }
   ],
   "source": [
    "# 2.Problemin b Şıkkının Çözümünü Buraya Yazınız\n",
    "numbers = [5,10,10,15,15,15,20,20,20,20]\n",
    "uniqueNumbers=[]\n",
    "for number in numbers:\n",
    "    if numbers.count(number)==1:\n",
    "        uniqueNumbers.append(number)\n",
    "print(f\"unique numbers: {uniqueNumbers}\")\n",
    "\n",
    "repeatNumbers=[]\n",
    "for number in numbers:\n",
    "    if numbers.count(number)!=1:\n",
    "        repeatNumbers.append(number)\n",
    "print(f\"repeating numbers: {repeatNumbers}\")\n",
    "    "
   ]
  },
  {
   "cell_type": "markdown",
   "metadata": {},
   "source": [
    "# Problem 3\n",
    "sn1 = {1,2,3,4,5}\n",
    "\n",
    "sn2 = {4,5,6,7,8}\n",
    "\n",
    " Verilen 2 adet küme için kesişimlerini, farklarını ve birleşimlerini bulunuz. "
   ]
  },
  {
   "cell_type": "code",
   "execution_count": 58,
   "metadata": {},
   "outputs": [
    {
     "name": "stdout",
     "output_type": "stream",
     "text": [
      "{1, 2, 3}\n",
      "{4, 5}\n",
      "{1, 2, 3, 4, 5, 6, 7, 8}\n"
     ]
    }
   ],
   "source": [
    "# 3.Problemin Çözümünü Buraya Yazınız\n",
    "sn1 = {1,2,3,4,5}\n",
    "sn2 = {4,5,6,7,8}\n",
    "fark=sn1.difference(sn2)\n",
    "print(fark)\n",
    "kesişim=sn1.intersection(sn2)\n",
    "print(kesişim)\n",
    "birleşim=sn1.union(sn2)\n",
    "print(birleşim)"
   ]
  },
  {
   "cell_type": "markdown",
   "metadata": {},
   "source": [
    "# Problem 4\n",
    "\n",
    "Buradaki işlemlerimizin tamamı stringler içindir. Aşağıda verilecek olan metodlar için kendinizin örnek yaratması gerekmektedir. \n",
    "\n",
    "Örneğin `upper` için `string` değişkeni oluştururken` k = \"BAC\"` şeklinde oluşturmayınız. Bunun yerine k değişkenini `k = \"bac`\" şeklinde oluşturmanız `upper` metodundaki değişimi görebilmeniz için daha iyi olacaktır.\n",
    "\n",
    "Bütün metodlardaki değişimin gözle görülür şekilde değişimi beklenmektedir.\n",
    "\n",
    "\n",
    "1- capitalize(), lower(), upper(), swapcase(), title(), replace()\n",
    "\n",
    "2- endswith(), startswith(), find(), index(), count()\n",
    "\n",
    "3- split(), strip(), join(), islower(), isalpha(), isdigit()\n",
    "\n",
    "\n",
    "Yukarıdaki `string` metodlarındaki değişimleri görebildiğimiz bir program yazınız.\n"
   ]
  },
  {
   "cell_type": "code",
   "execution_count": 55,
   "metadata": {},
   "outputs": [
    {
     "name": "stdout",
     "output_type": "stream",
     "text": [
      "Hello, i'm defne. my age is 22.\n",
      "hello, i'm defne. my age is 22.\n",
      "HELLO, I'M DEFNE. MY AGE IS 22.\n",
      "HELLO, i'M defne. MY agE IS 22.\n",
      "Hello, I'M Defne. My Age Is 22.\n",
      "hallo, I'm DEFNE. my AGa is 22.\n",
      "True\n",
      "True\n",
      "2\n",
      "5\n",
      "2\n",
      "['hello,', \"I'm\", 'DEFNE.', 'my', 'AGe', 'is', '22.']\n",
      "hello, I'm DEFNE. my AGe is 22\n",
      "hihello, I'm DEFNE. my AGe is 22.whyhello, I'm DEFNE. my AGe is 22.what\n",
      "False\n",
      "False\n",
      "False\n",
      "True\n",
      "True\n",
      "True\n"
     ]
    }
   ],
   "source": [
    "# 4.Problemin Çözümünü Buraya Yazınız\n",
    "sentence=\"hello, I'm DEFNE. my AGe is 22.\"\n",
    "c=sentence.capitalize()\n",
    "print(c)\n",
    "low=sentence.lower()\n",
    "print(low)\n",
    "up=sentence.upper()\n",
    "print(up)\n",
    "swap=sentence.swapcase()\n",
    "print(swap)\n",
    "t=sentence.title()\n",
    "print(t)\n",
    "rep=sentence.replace(\"e\",\"a\")\n",
    "print(rep)\n",
    "end=sentence.endswith(\"22.\")\n",
    "print(end)\n",
    "start=sentence.startswith(\"hello\")\n",
    "print(start)\n",
    "finder=sentence.find(\"llo\")\n",
    "print(finder)\n",
    "ind=sentence.index(\",\")\n",
    "print(ind)\n",
    "numb=sentence.count(\"E\")\n",
    "print(numb)\n",
    "pieces=sentence.split()\n",
    "print(pieces)\n",
    "noDot=sentence.strip(\".\")\n",
    "print(noDot)\n",
    "j=sentence.join([\"hi\", \"why\",\"what\"])\n",
    "print(j)\n",
    "see=sentence.islower()\n",
    "print(see)\n",
    "antiSee=sentence.isalpha()\n",
    "print(antiSee)\n",
    "digit=sentence.isdigit()\n",
    "print(digit)\n",
    "newSent=\"HELLO\"\n",
    "print(newSent.isalpha())\n",
    "newSent2=\"hello\"\n",
    "print(newSent2.islower())\n",
    "number=\"123\"\n",
    "print(number.isdigit())\n",
    "\n"
   ]
  }
 ],
 "metadata": {
  "kernelspec": {
   "display_name": "Python 3.10.5 64-bit",
   "language": "python",
   "name": "python3"
  },
  "language_info": {
   "codemirror_mode": {
    "name": "ipython",
    "version": 3
   },
   "file_extension": ".py",
   "mimetype": "text/x-python",
   "name": "python",
   "nbconvert_exporter": "python",
   "pygments_lexer": "ipython3",
   "version": "3.10.9"
  },
  "orig_nbformat": 4,
  "vscode": {
   "interpreter": {
    "hash": "5026d2d6e7aaaaba093def813beadff083d8733e4a511af01735cbabd156995d"
   }
  }
 },
 "nbformat": 4,
 "nbformat_minor": 2
}
